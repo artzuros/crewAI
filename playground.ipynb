{
 "cells": [
  {
   "cell_type": "markdown",
   "metadata": {},
   "source": [
    "## Calendar"
   ]
  },
  {
   "cell_type": "code",
   "execution_count": null,
   "metadata": {},
   "outputs": [],
   "source": [
    "import os\n",
    "from googleapiclient.discovery import build\n",
    "from google_auth_oauthlib.flow import InstalledAppFlow\n",
    "from google.auth.transport.requests import Request\n",
    "import pickle\n",
    "# If modifying these SCOPES, delete the file token.pickle.\n",
    "SCOPES = ['https://www.googleapis.com/auth/calendar']\n",
    "\n",
    "\"\"\"Shows basic usage of the Google Calendar API.\n",
    "Lists the next 10 events on the user's calendar.\n",
    "\"\"\"\n",
    "creds = None\n",
    "# The file token.pickle stores the user's access and refresh tokens, and is\n",
    "# created automatically when the authorization flow completes for the first\n",
    "# time.\n",
    "if os.path.exists('token.pickle'):\n",
    "    with open('token.pickle', 'rb') as token:\n",
    "        creds = pickle.load(token)\n",
    "# If there are no (valid) credentials available, let the user log in.\n",
    "if not creds or not creds.valid:\n",
    "    if creds and creds.expired and creds.refresh_token:\n",
    "        creds.refresh(Request())\n",
    "    else:\n",
    "        flow = InstalledAppFlow.from_client_secrets_file(\n",
    "            'credentials.json', SCOPES)\n",
    "        creds = flow.run_local_server(port=0)\n",
    "    # Save the credentials for the next run\n",
    "    with open('token.pickle', 'wb') as token:\n",
    "        pickle.dump(creds, token)\n",
    "\n",
    "service = build('calendar', 'v3', credentials=creds)"
   ]
  },
  {
   "cell_type": "code",
   "execution_count": null,
   "metadata": {},
   "outputs": [],
   "source": [
    "# from datetime import datetime\n",
    "\n",
    "# timestamp_str = \"2024-01-25T05:30:00+05:30\"\n",
    "# timestamp = datetime.strptime(timestamp_str, \"%Y-%m-%dT%H:%M:%S%z\")\n",
    "# readable_time = timestamp.strftime(\"%Y-%m-%d %H:%M:%S %Z\")\n",
    "\n",
    "# print(readable_time)"
   ]
  },
  {
   "cell_type": "markdown",
   "metadata": {},
   "source": [
    "## TESTING"
   ]
  },
  {
   "cell_type": "code",
   "execution_count": null,
   "metadata": {},
   "outputs": [],
   "source": [
    "from utils import *\n",
    "from crewai import Crew, Process\n",
    "import re"
   ]
  },
  {
   "cell_type": "code",
   "execution_count": null,
   "metadata": {},
   "outputs": [],
   "source": [
    "from crewai import Agent, Task\n",
    "\n",
    "from langchain_community.llms import Ollama\n",
    "ollama_mistral = Ollama(model=\"mistral\")\n",
    "\n",
    "taskAssigner = Agent(\n",
    "    role=\"Task_Assigner\",\n",
    "    goal=\"\"\"Interpret text input and decide which Calendar Agent is to be called to complete the task\"\"\",\n",
    "    backstory=\"\"\"Task Assigner is an expert agent who has expertise in natural language processing. He\\'s been working with the team for over three years now. \n",
    "    He always knows which calendar agent has to be assigned the task based on the input. Decide which calendar agent\n",
    "    (eventCreater (add events to calendar), eventModifier (modifies already existing events),\n",
    "    eventDeleter (deletes event), eventbusyTime(finds when during the day the calendar has an event) or eventSearcher (searches for an event))\n",
    "    should the task be given to and assign the task to that agent.\n",
    "    ONLY and ONLY output the name of the agent to whom the task is to be assigned and NOTHING ELSE.\"\"\",\n",
    "    verbose=True,\n",
    "    allow_delegation=True,\n",
    "    llm=ollama_mistral,\n",
    "    tools=[]#search_tool]\n",
    ")\n",
    "\n",
    "##Calendar AGENTS\n",
    "eventCreater = Agent(\n",
    "    role=\"Event_Creater\",\n",
    "    goal=\"\"\"Create the arguments for Calendar event based on the input text \"\"\",\n",
    "    verbose=True,\n",
    "    backstory=\"\"\"Event Creater is an expert agent who has expertise in creating events in Google Calendar. He\\'s been working with the team for over three years now. \n",
    "    He knows how to create events in Google Calendar using Google Calendar API. His current task is to create a Calendar event based on the Args passed.\"\"\",\n",
    "    allow_delegation=True,\n",
    "    llm=ollama_mistral,\n",
    "    tools=[]#CalendarTools.create_event]\n",
    ")\n",
    "\n",
    "eventModifier = Agent(\n",
    "    role=\"Event_Modifier\",\n",
    "    goal=\"\"\"Creates the arguments for Calendar event based on the input text\"\"\",\n",
    "    verbose=True,\n",
    "    backstory=\"\"\"Event Modifier is an expert agent who has expertise in modifying events in Google Calendar. He\\'s been working with the team for over three years now. \n",
    "    He knows how to modify events in Google Calendar using Google Calendar API. His current task is to modify an event in the Google Calendar.\"\"\",\n",
    "    allow_delegation=True,\n",
    "    llm=ollama_mistral,\n",
    "    tools=[]#CalendarTools.modify_event]\n",
    ")\n",
    "\n",
    "eventDeleter = Agent(\n",
    "    role=\"Event_Deleter\",\n",
    "    goal=\"\"\"Delete an event in the Google Calendar\"\"\",\n",
    "    verbose=True,\n",
    "    backstory=\"\"\"Event Deleter is an expert agent who has expertise in deleting events in Google Calendar. He\\'s been working with the team for over three years now. \n",
    "    He knows how to delete events in Google Calendar using Google Calendar API. His current task is to delete an event in the Google Calendar.\"\"\",\n",
    "    allow_delegation=True,\n",
    "    llm=ollama_mistral,\n",
    "    tools=[]#CalendarTools.delete_event]\n",
    ")\n",
    "\n",
    "eventbusyTime = Agent(\n",
    "    role=\"Event_Busy_Time\",\n",
    "    goal=\"\"\"Find which day is being talked about.\"\"\",\n",
    "    verbose=True,\n",
    "    backstory=\"\"\"Event Busy Time is an expert agent who has expertise in finding which day is being talked about. \"\"\",\n",
    "    allow_delegation=True,\n",
    "    llm=ollama_mistral,\n",
    "    tools=[]#CalendarTools.get_busy_time]\n",
    ")\n",
    "\n",
    "eventSearcher = Agent(\n",
    "    role=\"Event_Searcher\",\n",
    "    goal=\"\"\"Search for an event in the Google Calendar\"\"\",\n",
    "    verbose=True,\n",
    "    backstory=\"\"\"Event Searcher is an expert agent who has expertise in finding and listing events from Google Calendar. He\\'s been working with the team for over three years now. \n",
    "    He knows how to search events in Google Calendar using Google Calendar API. His current task is to search for an event in the Google Calendar.\"\"\",\n",
    "    allow_delegation=True,\n",
    "    llm=ollama_mistral,\n",
    "    tools=[]#CalendarTools.list_events]\n",
    ")"
   ]
  },
  {
   "cell_type": "code",
   "execution_count": null,
   "metadata": {},
   "outputs": [],
   "source": [
    "def tasks(input = None):\n",
    "\n",
    "    input_text = input + 'Today date is 02/03/2024 in MM/DD/YYYY format'\n",
    "\n",
    "    task_taskAssigner = Task(\n",
    "        description=\"\"\"Interpret the meaning and decide whether the task is for eventCreater, eventModifier, eventDeleter, eventbusyTime or eventSearcher agent and ONLY output the name of the agent to whom the task should be assigned, for the following text\"\"\"+ \n",
    "                    input_text,\n",
    "        agent=taskAssigner,\n",
    "        verbose=True,\n",
    "    )\n",
    "\n",
    "    task_eventCreater = Task(\n",
    "        description=\"\"\"Create the arguments  in this format ( If summmary is not specified then take summary as 'N/A', if location is not specified then take location as 'N/A', if email_reminder_minutes is not specified then take email_reminder_minutes as 24*60, if popup_reminder_minutes is not specified then take popup_reminder_minutes as 30)\n",
    "        {\n",
    "                'event_summary': summary,\n",
    "                'event_location': location,\n",
    "                'start_time': start_time, ISO8601 Format +5:30 \n",
    "                'end_time': end_time, ISO8601 Format +5:30 \n",
    "                'email_reminder_minutes': email_reminder_minutes,\n",
    "                'popup_reminder_minutes': popup_reminder_minutes,\n",
    "            }\n",
    "        for a Calendar event for the following text. ONLY PRINT THE DICTIONARY AND NOTHING ELSE\"\"\"+ \n",
    "                    input_text,\n",
    "        agent=eventCreater,\n",
    "        verbose=True,\n",
    "    )\n",
    "\n",
    "    task_eventModifier = Task(\n",
    "                # 'event_id': event_id,\n",
    "        description= \"\"\"Create the arguments for a Google Calendar event in this format ( If summmary is not specified then take summary as 'N/A', if location is not specified then take location as 'N/A', if start_time is not specified then take start_time as 'N/A', if end_time is not specified then take end_time as 'N/A')\n",
    "            {    \n",
    "                'event_summary': event_summary,\n",
    "                'event_location': event_location,\n",
    "                'start_time': start_time, ISO8601 Format +5:30 \n",
    "                'end_time': end_time, ISO8601 Format +5:30\n",
    "                'state' : state_number\n",
    "                }\n",
    "            Choose state number according to this : 1 -> Modify event summary, 2 -> Modify event location, 3 -> Modify event start time, 4 -> Modify event end time\n",
    "                    12 -> Modify event summary and location, 13 -> Modify event summary and start time, 14 -> Modify event summary and end time\n",
    "                    23 -> Modify event location and start time, 24 -> Modify event location and end time, 34 -> Modify event start time and end time\n",
    "                    123 -> Modify event summary, location and start time, 124 -> Modify event summary, location and end time, 134 -> Modify event summary, start time and end time\n",
    "                    234 -> Modify event location, start time and end time, 1234 -> Modify event summary, location, start time and end time\n",
    "        for the following text. ONLY PRINT THE DICTIONARY AND NOTHING ELSE\"\"\"+ \n",
    "                    input_text,\n",
    "        agent=eventModifier,\n",
    "        verbose=True,\n",
    "    )\n",
    "\n",
    "\n",
    "########## TDLR\n",
    "    task_eventDeleter = Task(\n",
    "        description=\"\"\"Use the delete_event tool and\"\"\"+ \n",
    "                    \"\"\"Delete an event in the Google Calendar, for the following event_id\"\"\"+ \n",
    "                    input_text,\n",
    "        agent=eventDeleter,\n",
    "        verbose=True,\n",
    "    )\n",
    "\n",
    "    task_eventbusyTime = Task(\n",
    "        description=\"\"\"Interpret which day is being talked about,\n",
    "                    for the following text\"\"\" + input_text + \n",
    "                    \"\"\" ONLY print the dictionary and nothing else in the format:\n",
    "                    {'date': date} #YYYY/DD/MM format\"\"\",\n",
    "        agent=eventbusyTime,\n",
    "        verbose=True,\n",
    "    )\n",
    "\n",
    "    task_eventSearcher = Task(\n",
    "        description=\"\"\"Create the arguments for searching a Google Calendar event in this format ( If summmary is not specified then take summary as 'None', if location is not specified then take location as 'None', if start_time is not specified then take start_time as 'None', if end_time is not specified then take end_time as 'None')\n",
    "            {    \n",
    "                'summary': event_summary, # Summary should be ther only if in the input text a keyword is specified\n",
    "                'location': event_location,\n",
    "                'start_date': start_date, Print the date in YYYY-MM-DD format\n",
    "                'end_date': end_date, Print the date in YYY-MM-DD format\n",
    "                }\n",
    "        For the following text. ONLY PRINT THE DICTIONARY AND NOTHING ELSE, I ONLY WANT THE DICTIONARY \"\"\"+ \n",
    "                    input_text,\n",
    "        agent=eventSearcher,\n",
    "        verbose=True,\n",
    "    )\n",
    "\n",
    "    return task_taskAssigner, task_eventCreater, task_eventModifier, task_eventDeleter, task_eventbusyTime, task_eventSearcher"
   ]
  },
  {
   "cell_type": "code",
   "execution_count": null,
   "metadata": {},
   "outputs": [],
   "source": [
    "def args_tasks(task_eventCreater, task_eventModifier, task_eventDeleter, task_eventbusyTime, task_eventSearcher, result):\n",
    "    if result == 'eventCreater' or result == 'eventCreator':\n",
    "        crew_2 = Crew(\n",
    "            agents=[eventCreater],\n",
    "            tasks=[task_eventCreater],\n",
    "            verbose=True,\n",
    "            process=Process.sequential,\n",
    "        )\n",
    "        result2 = crew_2.kickoff()\n",
    "        print(result2)\n",
    "            \n",
    "\n",
    "    elif result == 'eventModifier':\n",
    "        crew_2 = Crew(\n",
    "            agents=[eventModifier],\n",
    "            tasks=[task_eventModifier],\n",
    "            verbose=True,\n",
    "            process=Process.sequential,\n",
    "        )\n",
    "        result2 = crew_2.kickoff()\n",
    "        print(result2)\n",
    "        \n",
    "#########TDLR\n",
    "    elif result == 'eventDeleter':\n",
    "        crew_2 = Crew(\n",
    "            agents=[eventDeleter],\n",
    "            tasks=[task_eventDeleter],\n",
    "            verbose=True,\n",
    "            process=Process.sequential,\n",
    "        )\n",
    "        result2 = crew_2.kickoff()\n",
    "        print(result2)\n",
    "\n",
    "    elif result == 'eventbusyTime':\n",
    "        crew_2 = Crew(\n",
    "            agents=[eventbusyTime],\n",
    "            tasks=[task_eventbusyTime],\n",
    "            verbose=True,\n",
    "            process=Process.sequential,\n",
    "        )\n",
    "        result2 = crew_2.kickoff()\n",
    "        print(result2)\n",
    "\n",
    "    elif result == 'eventSearcher':\n",
    "        crew_2 = Crew(\n",
    "            agents=[eventSearcher],\n",
    "            tasks=[task_eventSearcher],\n",
    "            verbose=True,\n",
    "            process=Process.sequential,\n",
    "        )\n",
    "        result2 = crew_2.kickoff()\n",
    "        print(result2)\n",
    "\n",
    "    else:\n",
    "        print(\"Something went wrong, please try again\")\n",
    "    \n",
    "    return result2\n",
    "    "
   ]
  },
  {
   "cell_type": "markdown",
   "metadata": {},
   "source": [
    "### Create"
   ]
  },
  {
   "cell_type": "code",
   "execution_count": null,
   "metadata": {},
   "outputs": [],
   "source": [
    "task_taskAssigner, task_eventCreater, task_eventModifier, task_eventDeleter, task_eventbusyTime, task_eventSearcher = tasks(input = \"Create a team meeting at 8pm to 10pm\")"
   ]
  },
  {
   "cell_type": "code",
   "execution_count": null,
   "metadata": {},
   "outputs": [],
   "source": [
    "# from crewai import Crew, Process\n",
    "# crew_1 = Crew(\n",
    "#     agents=[taskAssigner],\n",
    "#     tasks=[task_taskAssigner],\n",
    "#     verbose=True,\n",
    "#     process=Process.sequential,\n",
    "# )\n",
    "\n",
    "# # Kickoff the crew tasks\n",
    "# result = crew_1.kickoff()\n",
    "# result = 'eventCreater'\n",
    "# result2 = args_tasks(task_eventCreater, task_eventModifier, task_eventDeleter, task_eventbusyTime, task_eventSearcher, result)\n",
    "\n",
    "result2 = \"\"\"{\n",
    "\"event_summary\": \"Team meeting\",\n",
    "\"event_location\": \"N/A\",\n",
    "\"start_time\": \"2024-03-02T20:00:00+05:30\",\n",
    "\"end_time\": \"2024-03-02T22:00:00+05:30\",\n",
    "\"email_reminder_minutes\": 1440,\n",
    "\"popup_reminder_minutes\": 180\n",
    "}\"\"\"\n",
    "\n",
    "result_dict = eval(result2)\n",
    "print(result_dict)\n",
    "\n",
    "created_event = CalendarTools.create_event(service, result_dict.get('event_summary'), result_dict.get('event_location'), result_dict.get('start_time'), result_dict.get('end_time'), int(result_dict.get('email_reminder_minutes')), int(result_dict.get('popup_reminder_minutes')))"
   ]
  },
  {
   "cell_type": "code",
   "execution_count": null,
   "metadata": {},
   "outputs": [],
   "source": [
    "eventId = re.sub(r'@.*', '', created_event)\n",
    "print(eventId)"
   ]
  },
  {
   "cell_type": "code",
   "execution_count": null,
   "metadata": {},
   "outputs": [],
   "source": [
    "CalendarTools.list_events(service, event_id=eventId)"
   ]
  },
  {
   "cell_type": "code",
   "execution_count": null,
   "metadata": {},
   "outputs": [],
   "source": [
    "from pymongo import MongoClient\n",
    "client = MongoClient(\"mongodb://localhost:27017/\")\n",
    "db = client[\"agent_calendar\"]\n",
    "collection = db[\"exec_ai\"]"
   ]
  },
  {
   "cell_type": "code",
   "execution_count": null,
   "metadata": {},
   "outputs": [],
   "source": [
    "try:\n",
    "    collection.insert_one(event[0])\n",
    "except Exception as e:\n",
    "    print(e)"
   ]
  },
  {
   "cell_type": "markdown",
   "metadata": {},
   "source": [
    "----"
   ]
  },
  {
   "cell_type": "markdown",
   "metadata": {},
   "source": [
    "### Modify"
   ]
  },
  {
   "cell_type": "code",
   "execution_count": null,
   "metadata": {},
   "outputs": [],
   "source": [
    "task_taskAssigner, task_eventCreater, task_eventModifier, task_eventDeleter, task_eventbusyTime, task_eventSearcher = tasks(input = \"Modify the 8pm to start at 10pm\")"
   ]
  },
  {
   "cell_type": "code",
   "execution_count": null,
   "metadata": {},
   "outputs": [],
   "source": [
    "from crewai import Crew, Process\n",
    "crew_1 = Crew(\n",
    "    agents=[taskAssigner],\n",
    "    tasks=[task_taskAssigner],\n",
    "    verbose=True,\n",
    "    process=Process.sequential,\n",
    ")\n",
    "\n",
    "# Kickoff the crew tasks\n",
    "result = crew_1.kickoff()"
   ]
  },
  {
   "cell_type": "code",
   "execution_count": null,
   "metadata": {},
   "outputs": [],
   "source": [
    "print(result)"
   ]
  },
  {
   "cell_type": "code",
   "execution_count": null,
   "metadata": {},
   "outputs": [],
   "source": [
    "result2 = args_tasks(task_eventCreater, task_eventModifier, task_eventDeleter, task_eventbusyTime, task_eventSearcher, result)"
   ]
  },
  {
   "cell_type": "code",
   "execution_count": null,
   "metadata": {},
   "outputs": [],
   "source": [
    "result_dict = eval(result2)\n",
    "print(result_dict)"
   ]
  },
  {
   "cell_type": "code",
   "execution_count": null,
   "metadata": {},
   "outputs": [],
   "source": [
    "CalendarTools.modify_event(service, eventId ,result_dict.get('event_summary'), result_dict.get('event_location'), result_dict.get('start_time'), result_dict.get('end_time'), int(result_dict.get('state')))"
   ]
  },
  {
   "cell_type": "markdown",
   "metadata": {},
   "source": [
    "### Delete ##"
   ]
  },
  {
   "cell_type": "code",
   "execution_count": null,
   "metadata": {},
   "outputs": [],
   "source": [
    "task_taskAssigner, task_eventCreater, task_eventModifier, task_eventDeleter, task_eventbusyTime, task_eventSearcher = tasks(input = \"Delete 8pm meeting\")\n",
    "from crewai import Crew, Process\n",
    "crew_1 = Crew(\n",
    "    agents=[taskAssigner],\n",
    "    tasks=[task_taskAssigner],\n",
    "    verbose=True,\n",
    "    process=Process.sequential,\n",
    ")\n",
    "\n",
    "# Kickoff the crew tasks\n",
    "result = crew_1.kickoff()\n",
    "print(result)\n",
    "\n",
    "#result = 'eventbusyTime'\n",
    "result2 = args_tasks(task_eventCreater, task_eventModifier, task_eventDeleter, task_eventbusyTime, task_eventSearcher, result)"
   ]
  },
  {
   "cell_type": "code",
   "execution_count": null,
   "metadata": {},
   "outputs": [],
   "source": [
    "listed_events = CalendarTool.list_events(service, start_date = '2024-03-02')"
   ]
  },
  {
   "cell_type": "code",
   "execution_count": null,
   "metadata": {},
   "outputs": [],
   "source": [
    "deleter_id = listed_events[0].get('id')"
   ]
  },
  {
   "cell_type": "code",
   "execution_count": null,
   "metadata": {},
   "outputs": [],
   "source": [
    "CalendarTool.delete_event(service, deleter_id)"
   ]
  },
  {
   "cell_type": "markdown",
   "metadata": {},
   "source": [
    "### Busy"
   ]
  },
  {
   "cell_type": "code",
   "execution_count": null,
   "metadata": {},
   "outputs": [],
   "source": [
    "# task_taskAssigner, task_eventCreater, task_eventModifier, task_eventDeleter, task_eventbusyTime, task_eventSearcher = tasks(input = \"Today when am i busy\")\n",
    "# from crewai import Crew, Process\n",
    "# import re\n",
    "# crew_1 = Crew(\n",
    "#     agents=[taskAssigner],\n",
    "#     tasks=[task_taskAssigner],\n",
    "#     verbose=True,\n",
    "#     process=Process.sequential,\n",
    "# )\n",
    "\n",
    "# # Kickoff the crew tasks\n",
    "# result = crew_1.kickoff()\n",
    "\n",
    "# #result = 'eventbusyTime'\n",
    "# result2 = args_tasks(task_eventCreater, task_eventModifier, task_eventDeleter, task_eventbusyTime, task_eventSearcher, result)\n",
    "# matches = re.findall(r\"\\{(.*?)\\}\", result2)\n",
    "# match = matches[0]\n",
    "# result_dict = {'day': (match.split(\":\")[1])}\n",
    "\n",
    "# date_str = result_dict.get('day')\n",
    "# date_str = date_str.strip(\"' \").strip()\n",
    "# (date_str) = '2024-02-28'\n",
    "\n",
    "from datetime import datetime\n",
    "# Correct format string to match 'year-month-day'\n",
    "date_obj = datetime.strptime(date_str, '%Y-%m-%d').date()\n",
    "print(date_obj)\n",
    "CalendarTool.get_busy_time(service, date = date_obj)"
   ]
  },
  {
   "cell_type": "markdown",
   "metadata": {},
   "source": [
    "### Search"
   ]
  },
  {
   "cell_type": "code",
   "execution_count": null,
   "metadata": {},
   "outputs": [],
   "source": [
    "task_taskAssigner, task_eventCreater, task_eventModifier, task_eventDeleter, task_eventbusyTime, task_eventSearcher = tasks(input = \"Search for any event in the next month\")\n",
    "from crewai import Crew, Process\n",
    "crew_1 = Crew(\n",
    "    agents=[taskAssigner],\n",
    "    tasks=[task_taskAssigner],\n",
    "    verbose=True,\n",
    "    process=Process.sequential,\n",
    ")\n",
    "\n",
    "# Kickoff the crew tasks\n",
    "result = crew_1.kickoff()\n",
    "\n",
    "#result = 'eventbusyTime'\n",
    "result2 = args_tasks(task_eventCreater, task_eventModifier, task_eventDeleter, task_eventbusyTime, task_eventSearcher, result)"
   ]
  },
  {
   "cell_type": "code",
   "execution_count": null,
   "metadata": {},
   "outputs": [],
   "source": [
    "print(result2)\n",
    "result_dict = eval(result2)\n",
    "if result_dict.get('summary') == 'N/A' or 'None':\n",
    "    result_dict['summary'] = None\n",
    "if result_dict.get('location') == 'N/A' or 'None':\n",
    "    result_dict['location'] = None\n",
    "if result_dict.get('start_date') == 'N?A' or 'None':\n",
    "    result_dict['start_date'] = None\n",
    "if result_dict.get('end_date') == 'N/A' or 'None':\n",
    "    result_dict['end_date'] = None\n",
    "\n",
    "CalendarTool.list_events(service, start_date=result_dict.get('start_date'), end_date=result_dict.get('end_date'), summary=None, location=None)"
   ]
  },
  {
   "cell_type": "code",
   "execution_count": null,
   "metadata": {},
   "outputs": [],
   "source": []
  }
 ],
 "metadata": {
  "kernelspec": {
   "display_name": "langchain",
   "language": "python",
   "name": "python3"
  },
  "language_info": {
   "codemirror_mode": {
    "name": "ipython",
    "version": 3
   },
   "file_extension": ".py",
   "mimetype": "text/x-python",
   "name": "python",
   "nbconvert_exporter": "python",
   "pygments_lexer": "ipython3",
   "version": "3.11.5"
  }
 },
 "nbformat": 4,
 "nbformat_minor": 2
}
