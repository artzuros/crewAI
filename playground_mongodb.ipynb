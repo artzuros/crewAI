{
 "cells": [
  {
   "cell_type": "code",
   "execution_count": 1,
   "metadata": {},
   "outputs": [],
   "source": [
    "import os\n",
    "from googleapiclient.discovery import build\n",
    "from google_auth_oauthlib.flow import InstalledAppFlow\n",
    "from google.auth.transport.requests import Request\n",
    "import pickle, datetime\n",
    "\n",
    "SCOPES = ['https://www.googleapis.com/auth/calendar']\n",
    "creds = None\n",
    "# The file token.pickle stores the user's access and refresh tokens, and is\n",
    "# created automatically when the authorization flow completes for the first\n",
    "# time.\n",
    "if os.path.exists('token.pickle'):\n",
    "    with open('token.pickle', 'rb') as token:\n",
    "        creds = pickle.load(token)\n",
    "# If there are no (valid) credentials available, let the user log in.\n",
    "if not creds or not creds.valid:\n",
    "    if creds and creds.expired and creds.refresh_token:\n",
    "        creds.refresh(Request())\n",
    "    else:\n",
    "        flow = InstalledAppFlow.from_client_secrets_file(\n",
    "            'credentials.json', SCOPES)\n",
    "        creds = flow.run_local_server(port=0)\n",
    "    # Save the credentials for the next run\n",
    "    with open('token.pickle', 'wb') as token:\n",
    "        pickle.dump(creds, token)\n",
    "\n",
    "service = build('calendar', 'v3', credentials=creds)"
   ]
  },
  {
   "cell_type": "code",
   "execution_count": 2,
   "metadata": {},
   "outputs": [],
   "source": [
    "from pymongo import MongoClient\n",
    "from utils_mongo import MongoUtils as mu\n",
    "from utils import CalendarTools\n",
    "\n",
    "import re\n",
    "from datetime import datetime\n",
    "import pytz"
   ]
  },
  {
   "cell_type": "code",
   "execution_count": 3,
   "metadata": {},
   "outputs": [],
   "source": [
    "collection = mu.connect_to_mongodb(\"agent_calendar\", \"exec_ai\")"
   ]
  },
  {
   "cell_type": "markdown",
   "metadata": {},
   "source": [
    "### Create"
   ]
  },
  {
   "cell_type": "code",
   "execution_count": 5,
   "metadata": {},
   "outputs": [
    {
     "name": "stdout",
     "output_type": "stream",
     "text": [
      "{'event_summary': 'Team meeting', 'event_location': 'N/A', 'start_time': '2024-03-02T20:00:00+05:30', 'end_time': '2024-03-02T22:00:00+05:30', 'email_reminder_minutes': 1440, 'popup_reminder_minutes': 180}\n"
     ]
    }
   ],
   "source": [
    "result2 = \"\"\"{\n",
    "\"event_summary\": \"Team meeting\",\n",
    "\"event_location\": \"N/A\",\n",
    "\"start_time\": \"2024-03-02T20:00:00+05:30\",\n",
    "\"end_time\": \"2024-03-02T22:00:00+05:30\",\n",
    "\"email_reminder_minutes\": 1440,\n",
    "\"popup_reminder_minutes\": 180\n",
    "}\"\"\"\n",
    "\n",
    "result_dict = eval(result2)\n",
    "print(result_dict)"
   ]
  },
  {
   "cell_type": "code",
   "execution_count": 6,
   "metadata": {},
   "outputs": [
    {
     "name": "stdout",
     "output_type": "stream",
     "text": [
      "Event created: https://www.google.com/calendar/event?eid=NW1yMWlrZTBob3EyNDd1cTU1dnJhZzRjOXMgZ3VudWJhbnNhbDEyOUBt\n",
      "5mr1ike0hoq247uq55vrag4c9s\n"
     ]
    }
   ],
   "source": [
    "created_event = CalendarTools.create_event(service, result_dict.get('event_summary'), result_dict.get('event_location'), result_dict.get('start_time'), result_dict.get('end_time'), int(result_dict.get('email_reminder_minutes')), int(result_dict.get('popup_reminder_minutes')))\n",
    "eventId = re.sub(r'@.*', '', created_event)\n",
    "print(eventId)\n",
    "\n",
    "event = CalendarTools.list_events(service, event_id=eventId)"
   ]
  },
  {
   "cell_type": "code",
   "execution_count": 8,
   "metadata": {},
   "outputs": [
    {
     "name": "stdout",
     "output_type": "stream",
     "text": [
      "{'kind': 'calendar#event', 'etag': '\"3414851391240000\"', 'id': '5mr1ike0hoq247uq55vrag4c9s', 'status': 'confirmed', 'htmlLink': 'https://www.google.com/calendar/event?eid=NW1yMWlrZTBob3EyNDd1cTU1dnJhZzRjOXMgZ3VudWJhbnNhbDEyOUBt', 'created': '2024-02-08T20:54:55.000Z', 'updated': '2024-02-08T20:54:55.620Z', 'summary': 'Team meeting', 'description': \"A chance to hear more about Google's developer products.\", 'location': 'N/A', 'creator': {'email': 'gunubansal129@gmail.com', 'self': True}, 'organizer': {'email': 'gunubansal129@gmail.com', 'self': True}, 'start': {'dateTime': '2024-03-02T20:00:00+05:30', 'timeZone': 'Asia/Kolkata'}, 'end': {'dateTime': '2024-03-02T22:00:00+05:30', 'timeZone': 'Asia/Kolkata'}, 'iCalUID': '5mr1ike0hoq247uq55vrag4c9s@google.com', 'sequence': 0, 'reminders': {'useDefault': False, 'overrides': [{'method': 'email', 'minutes': 1440}, {'method': 'popup', 'minutes': 180}]}, 'eventType': 'default'}\n"
     ]
    }
   ],
   "source": [
    "print(event[0])"
   ]
  },
  {
   "cell_type": "code",
   "execution_count": 9,
   "metadata": {},
   "outputs": [
    {
     "name": "stdout",
     "output_type": "stream",
     "text": [
      "Added event to DB\n"
     ]
    }
   ],
   "source": [
    "mu.save_new_db(event = event[0], collection=collection)"
   ]
  },
  {
   "cell_type": "markdown",
   "metadata": {},
   "source": [
    "----"
   ]
  },
  {
   "cell_type": "markdown",
   "metadata": {},
   "source": [
    "### Modify"
   ]
  },
  {
   "cell_type": "code",
   "execution_count": 17,
   "metadata": {},
   "outputs": [],
   "source": [
    "# Define function to prompt user for confirmation of events\n",
    "def confirm_event(events):\n",
    "    print(\"Found the following events:\")\n",
    "    for i, event in enumerate(events):\n",
    "        print(f\"{i + 1}. {event['summary']} - {event['start']['dateTime']} to {event['end']['dateTime']}\")\n",
    "\n",
    "    while True:\n",
    "        choice = input(\"Enter the number of the correct event (or '0' to cancel): \")\n",
    "        if choice == '0':\n",
    "            return None\n",
    "        try:\n",
    "            choice = int(choice)\n",
    "            if 1 <= choice <= len(events):\n",
    "                return events[choice - 1]\n",
    "            else:\n",
    "                print(\"Invalid choice. Please enter a valid number.\")\n",
    "        except ValueError:\n",
    "            print(\"Invalid input. Please enter a number.\")"
   ]
  },
  {
   "cell_type": "code",
   "execution_count": 18,
   "metadata": {},
   "outputs": [
    {
     "name": "stdout",
     "output_type": "stream",
     "text": [
      "Found the following events:\n",
      "1. Team meeting - 2024-03-02T20:00:00+05:30 to 2024-03-02T22:00:00+05:30\n",
      "Confirmed event:\n",
      "{'_id': ObjectId('65c53fbc22cc11c0ce8c5b26'), 'kind': 'calendar#event', 'etag': '\"3414851391240000\"', 'id': '5mr1ike0hoq247uq55vrag4c9s', 'status': 'confirmed', 'htmlLink': 'https://www.google.com/calendar/event?eid=NW1yMWlrZTBob3EyNDd1cTU1dnJhZzRjOXMgZ3VudWJhbnNhbDEyOUBt', 'created': '2024-02-08T20:54:55.000Z', 'updated': '2024-02-08T20:54:55.620Z', 'summary': 'Team meeting', 'description': \"A chance to hear more about Google's developer products.\", 'location': 'N/A', 'creator': {'email': 'gunubansal129@gmail.com', 'self': True}, 'organizer': {'email': 'gunubansal129@gmail.com', 'self': True}, 'start': {'dateTime': '2024-03-02T20:00:00+05:30', 'timeZone': 'Asia/Kolkata'}, 'end': {'dateTime': '2024-03-02T22:00:00+05:30', 'timeZone': 'Asia/Kolkata'}, 'iCalUID': '5mr1ike0hoq247uq55vrag4c9s@google.com', 'sequence': 0, 'reminders': {'useDefault': False, 'overrides': [{'method': 'email', 'minutes': 1440}, {'method': 'popup', 'minutes': 180}]}, 'eventType': 'default'}\n"
     ]
    }
   ],
   "source": [
    "# Example usage\n",
    "summary = \"\"\n",
    "start_date = \"2024-03-02\" #YYYY-MM-DD format\n",
    "end_date = \"\" # YYYY-MM-DD format\n",
    "location = \"\"\n",
    "\n",
    "events = mu.list_events_db(collection, summary, start_date, end_date, location)\n",
    "\n",
    "if events:\n",
    "    selected_event = confirm_event(events)\n",
    "    if selected_event:\n",
    "        print(\"Confirmed event:\")\n",
    "        print(selected_event)\n",
    "else:\n",
    "    print(\"No events found matching the criteria.\")"
   ]
  },
  {
   "cell_type": "code",
   "execution_count": 15,
   "metadata": {},
   "outputs": [],
   "source": [
    "####### ask the user in a natural language way"
   ]
  },
  {
   "cell_type": "code",
   "execution_count": 4,
   "metadata": {},
   "outputs": [],
   "source": [
    "event_id = selected_event.get('id')"
   ]
  },
  {
   "cell_type": "code",
   "execution_count": 12,
   "metadata": {},
   "outputs": [
    {
     "name": "stdout",
     "output_type": "stream",
     "text": [
      "Event updated: https://www.google.com/calendar/event?eid=NW1yMWlrZTBob3EyNDd1cTU1dnJhZzRjOXMgZ3VudWJhbnNhbDEyOUBt\n"
     ]
    }
   ],
   "source": [
    "updated_event = CalendarTools.modify_event(service, event_id, event_summary='', event_location='',\n",
    "                           start_time='2024-03-02T20:00:00+05:30',end_time='',\n",
    "                           state=3\n",
    "                        )"
   ]
  },
  {
   "cell_type": "code",
   "execution_count": 13,
   "metadata": {},
   "outputs": [
    {
     "data": {
      "text/plain": [
       "{'kind': 'calendar#event',\n",
       " 'etag': '\"3414855094589000\"',\n",
       " 'id': '5mr1ike0hoq247uq55vrag4c9s',\n",
       " 'status': 'confirmed',\n",
       " 'htmlLink': 'https://www.google.com/calendar/event?eid=NW1yMWlrZTBob3EyNDd1cTU1dnJhZzRjOXMgZ3VudWJhbnNhbDEyOUBt',\n",
       " 'created': '2024-02-08T20:54:55.000Z',\n",
       " 'updated': '2024-02-08T21:56:38.969Z',\n",
       " 'summary': 'Team meeting',\n",
       " 'description': \"A chance to hear more about Google's developer products.\",\n",
       " 'location': 'N/A',\n",
       " 'creator': {'email': 'gunubansal129@gmail.com', 'self': True},\n",
       " 'organizer': {'email': 'gunubansal129@gmail.com', 'self': True},\n",
       " 'start': {'dateTime': '2024-03-02T20:00:00+05:30',\n",
       "  'timeZone': 'Asia/Kolkata'},\n",
       " 'end': {'dateTime': '2024-03-02T22:00:00+05:30', 'timeZone': 'Asia/Kolkata'},\n",
       " 'iCalUID': '5mr1ike0hoq247uq55vrag4c9s@google.com',\n",
       " 'sequence': 2,\n",
       " 'reminders': {'useDefault': False,\n",
       "  'overrides': [{'method': 'email', 'minutes': 1440},\n",
       "   {'method': 'popup', 'minutes': 180}]},\n",
       " 'eventType': 'default'}"
      ]
     },
     "execution_count": 13,
     "metadata": {},
     "output_type": "execute_result"
    }
   ],
   "source": [
    "updated_event[0]"
   ]
  },
  {
   "cell_type": "code",
   "execution_count": 14,
   "metadata": {},
   "outputs": [
    {
     "name": "stdout",
     "output_type": "stream",
     "text": [
      "Updated event in DB\n"
     ]
    }
   ],
   "source": [
    "mu.update_event_db(collection, updated_event[0]['id'], updated_event[0])"
   ]
  },
  {
   "cell_type": "code",
   "execution_count": 14,
   "metadata": {},
   "outputs": [
    {
     "data": {
      "text/plain": [
       "{'_id': ObjectId('65c53fbc22cc11c0ce8c5b26'),\n",
       " 'kind': 'calendar#event',\n",
       " 'etag': '\"3414851391240000\"',\n",
       " 'id': '5mr1ike0hoq247uq55vrag4c9s',\n",
       " 'status': 'confirmed',\n",
       " 'htmlLink': 'https://www.google.com/calendar/event?eid=NW1yMWlrZTBob3EyNDd1cTU1dnJhZzRjOXMgZ3VudWJhbnNhbDEyOUBt',\n",
       " 'created': '2024-02-08T20:54:55.000Z',\n",
       " 'updated': '2024-02-08T20:54:55.620Z',\n",
       " 'summary': 'Team meeting',\n",
       " 'description': \"A chance to hear more about Google's developer products.\",\n",
       " 'location': 'N/A',\n",
       " 'creator': {'email': 'gunubansal129@gmail.com', 'self': True},\n",
       " 'organizer': {'email': 'gunubansal129@gmail.com', 'self': True},\n",
       " 'start': {'dateTime': '2024-03-02T20:00:00+05:30',\n",
       "  'timeZone': 'Asia/Kolkata'},\n",
       " 'end': {'dateTime': '2024-03-02T22:00:00+05:30', 'timeZone': 'Asia/Kolkata'},\n",
       " 'iCalUID': '5mr1ike0hoq247uq55vrag4c9s@google.com',\n",
       " 'sequence': 0,\n",
       " 'reminders': {'useDefault': False,\n",
       "  'overrides': [{'method': 'email', 'minutes': 1440},\n",
       "   {'method': 'popup', 'minutes': 180}]},\n",
       " 'eventType': 'default'}"
      ]
     },
     "execution_count": 14,
     "metadata": {},
     "output_type": "execute_result"
    }
   ],
   "source": [
    "mu.get_event_db(collection, updated_event[0]['id'])"
   ]
  },
  {
   "cell_type": "markdown",
   "metadata": {},
   "source": [
    "-----"
   ]
  },
  {
   "cell_type": "markdown",
   "metadata": {},
   "source": [
    "### Delete event ##TDLR"
   ]
  },
  {
   "cell_type": "markdown",
   "metadata": {},
   "source": []
  }
 ],
 "metadata": {
  "kernelspec": {
   "display_name": "langchain",
   "language": "python",
   "name": "python3"
  },
  "language_info": {
   "codemirror_mode": {
    "name": "ipython",
    "version": 3
   },
   "file_extension": ".py",
   "mimetype": "text/x-python",
   "name": "python",
   "nbconvert_exporter": "python",
   "pygments_lexer": "ipython3",
   "version": "3.11.5"
  }
 },
 "nbformat": 4,
 "nbformat_minor": 2
}
