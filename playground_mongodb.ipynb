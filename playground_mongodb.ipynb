{
 "cells": [
  {
   "cell_type": "code",
   "execution_count": 1,
   "metadata": {},
   "outputs": [],
   "source": [
    "import os\n",
    "from googleapiclient.discovery import build\n",
    "from google_auth_oauthlib.flow import InstalledAppFlow\n",
    "from google.auth.transport.requests import Request\n",
    "import pickle, datetime\n",
    "\n",
    "SCOPES = ['https://www.googleapis.com/auth/calendar']\n",
    "creds = None\n",
    "# The file token.pickle stores the user's access and refresh tokens, and is\n",
    "# created automatically when the authorization flow completes for the first\n",
    "# time.\n",
    "if os.path.exists('token.pickle'):\n",
    "    with open('token.pickle', 'rb') as token:\n",
    "        creds = pickle.load(token)\n",
    "# If there are no (valid) credentials available, let the user log in.\n",
    "if not creds or not creds.valid:\n",
    "    if creds and creds.expired and creds.refresh_token:\n",
    "        creds.refresh(Request())\n",
    "    else:\n",
    "        flow = InstalledAppFlow.from_client_secrets_file(\n",
    "            'credentials.json', SCOPES)\n",
    "        creds = flow.run_local_server(port=0)\n",
    "    # Save the credentials for the next run\n",
    "    with open('token.pickle', 'wb') as token:\n",
    "        pickle.dump(creds, token)\n",
    "\n",
    "service = build('calendar', 'v3', credentials=creds)"
   ]
  },
  {
   "cell_type": "code",
   "execution_count": 22,
   "metadata": {},
   "outputs": [],
   "source": [
    "from pymongo import MongoClient\n",
    "from utils_mongo import connect_to_mongo, save_new, update_event, delete_event, get_event \n",
    "from utils import CalendarTool\n",
    "\n",
    "import re\n",
    "from datetime import datetime\n",
    "import pytz"
   ]
  },
  {
   "cell_type": "code",
   "execution_count": 4,
   "metadata": {},
   "outputs": [
    {
     "name": "stdout",
     "output_type": "stream",
     "text": [
      "{'event_summary': 'Team meeting', 'event_location': 'N/A', 'start_time': '2024-03-02T20:00:00+05:30', 'end_time': '2024-03-02T22:00:00+05:30', 'email_reminder_minutes': 1440, 'popup_reminder_minutes': 180}\n"
     ]
    }
   ],
   "source": [
    "result2 = \"\"\"{\n",
    "\"event_summary\": \"Team meeting\",\n",
    "\"event_location\": \"N/A\",\n",
    "\"start_time\": \"2024-03-02T20:00:00+05:30\",\n",
    "\"end_time\": \"2024-03-02T22:00:00+05:30\",\n",
    "\"email_reminder_minutes\": 1440,\n",
    "\"popup_reminder_minutes\": 180\n",
    "}\"\"\"\n",
    "\n",
    "result_dict = eval(result2)\n",
    "print(result_dict)"
   ]
  },
  {
   "cell_type": "code",
   "execution_count": 6,
   "metadata": {},
   "outputs": [
    {
     "name": "stdout",
     "output_type": "stream",
     "text": [
      "Event created: https://www.google.com/calendar/event?eid=ZW11bHNwYjA1Y2Z0ZTVjcTVnODJ2YTlrbTAgZ3VudWJhbnNhbDEyOUBt\n",
      "emulspb05cfte5cq5g82va9km0\n"
     ]
    }
   ],
   "source": [
    "created_event = CalendarTool.create_event(service, result_dict.get('event_summary'), result_dict.get('event_location'), result_dict.get('start_time'), result_dict.get('end_time'), int(result_dict.get('email_reminder_minutes')), int(result_dict.get('popup_reminder_minutes')))\n",
    "eventId = re.sub(r'@.*', '', created_event)\n",
    "print(eventId)\n",
    "\n",
    "event = CalendarTool.list_events(service, event_id=eventId)"
   ]
  },
  {
   "cell_type": "code",
   "execution_count": 11,
   "metadata": {},
   "outputs": [],
   "source": [
    "collection = connect_to_mongo(\"agent_calendar\", \"exec_ai\")"
   ]
  },
  {
   "cell_type": "code",
   "execution_count": 23,
   "metadata": {},
   "outputs": [
    {
     "name": "stdout",
     "output_type": "stream",
     "text": [
      "Unexpected exception formatting exception. Falling back to standard exception\n"
     ]
    },
    {
     "name": "stderr",
     "output_type": "stream",
     "text": [
      "Traceback (most recent call last):\n",
      "  File \"c:\\Users\\gunub\\.conda\\envs\\langchain\\Lib\\site-packages\\IPython\\core\\interactiveshell.py\", line 3526, in run_code\n",
      "    exec(code_obj, self.user_global_ns, self.user_ns)\n",
      "  File \"C:\\Users\\gunub\\AppData\\Local\\Temp\\ipykernel_30792\\3611410648.py\", line 1, in <module>\n",
      "    save_new(event= event[0], collection=collection)\n",
      "  File \"d:\\C_Drive\\Desktop\\CS\\crewAI\\utils_mongo.py\", line 11, in save_new\n",
      "  File \"c:\\Users\\gunub\\.conda\\envs\\langchain\\Lib\\site-packages\\pymongo\\collection.py\", line 671, in insert_one\n",
      "    self._insert_one(\n",
      "  File \"c:\\Users\\gunub\\.conda\\envs\\langchain\\Lib\\site-packages\\pymongo\\collection.py\", line 611, in _insert_one\n",
      "    self.__database.client._retryable_write(acknowledged, _insert_command, session)\n",
      "  File \"c:\\Users\\gunub\\.conda\\envs\\langchain\\Lib\\site-packages\\pymongo\\mongo_client.py\", line 1568, in _retryable_write\n",
      "    return self._retry_with_session(retryable, func, s, None)\n",
      "           ^^^^^^^^^^^^^^^^^^^^^^^^^^^^^^^^^^^^^^^^^^^^^^^^^^\n",
      "  File \"c:\\Users\\gunub\\.conda\\envs\\langchain\\Lib\\site-packages\\pymongo\\mongo_client.py\", line 1413, in _retry_with_session\n",
      "    return self._retry_internal(retryable, func, session, bulk)\n",
      "           ^^^^^^^^^^^^^^^^^^^^^^^^^^^^^^^^^^^^^^^^^^^^^^^^^^^^\n",
      "  File \"c:\\Users\\gunub\\.conda\\envs\\langchain\\Lib\\site-packages\\pymongo\\_csot.py\", line 108, in csot_wrapper\n",
      "    return func(self, *args, **kwargs)\n",
      "           ^^^^^^^^^^^^^^^^^^^^^^^^^^^\n",
      "  File \"c:\\Users\\gunub\\.conda\\envs\\langchain\\Lib\\site-packages\\pymongo\\mongo_client.py\", line 1460, in _retry_internal\n",
      "    return func(session, conn, retryable)\n",
      "           ^^^^^^^^^^^^^^^^^^^^^^^^^^^^^^\n",
      "  File \"c:\\Users\\gunub\\.conda\\envs\\langchain\\Lib\\site-packages\\pymongo\\collection.py\", line 609, in _insert_command\n",
      "    _check_write_command_response(result)\n",
      "  File \"c:\\Users\\gunub\\.conda\\envs\\langchain\\Lib\\site-packages\\pymongo\\helpers.py\", line 259, in _check_write_command_response\n",
      "    _raise_last_write_error(write_errors)\n",
      "  File \"c:\\Users\\gunub\\.conda\\envs\\langchain\\Lib\\site-packages\\pymongo\\helpers.py\", line 231, in _raise_last_write_error\n",
      "    raise DuplicateKeyError(error.get(\"errmsg\"), 11000, error)\n",
      "pymongo.errors.DuplicateKeyError: E11000 duplicate key error collection: agent_calendar.exec_ai index: _id_ dup key: { _id: ObjectId('65c346cb216f4470f983199d') }, full error: {'index': 0, 'code': 11000, 'errmsg': \"E11000 duplicate key error collection: agent_calendar.exec_ai index: _id_ dup key: { _id: ObjectId('65c346cb216f4470f983199d') }\", 'keyPattern': {'_id': 1}, 'keyValue': {'_id': ObjectId('65c346cb216f4470f983199d')}}\n",
      "\n",
      "During handling of the above exception, another exception occurred:\n",
      "\n",
      "Traceback (most recent call last):\n",
      "  File \"c:\\Users\\gunub\\.conda\\envs\\langchain\\Lib\\site-packages\\IPython\\core\\interactiveshell.py\", line 2120, in showtraceback\n",
      "    stb = self.InteractiveTB.structured_traceback(\n",
      "          ^^^^^^^^^^^^^^^^^^^^^^^^^^^^^^^^^^^^^^^^\n",
      "  File \"c:\\Users\\gunub\\.conda\\envs\\langchain\\Lib\\site-packages\\IPython\\core\\ultratb.py\", line 1435, in structured_traceback\n",
      "    return FormattedTB.structured_traceback(\n",
      "           ^^^^^^^^^^^^^^^^^^^^^^^^^^^^^^^^^\n",
      "  File \"c:\\Users\\gunub\\.conda\\envs\\langchain\\Lib\\site-packages\\IPython\\core\\ultratb.py\", line 1326, in structured_traceback\n",
      "    return VerboseTB.structured_traceback(\n",
      "           ^^^^^^^^^^^^^^^^^^^^^^^^^^^^^^^\n",
      "  File \"c:\\Users\\gunub\\.conda\\envs\\langchain\\Lib\\site-packages\\IPython\\core\\ultratb.py\", line 1173, in structured_traceback\n",
      "    formatted_exception = self.format_exception_as_a_whole(etype, evalue, etb, number_of_lines_of_context,\n",
      "                          ^^^^^^^^^^^^^^^^^^^^^^^^^^^^^^^^^^^^^^^^^^^^^^^^^^^^^^^^^^^^^^^^^^^^^^^^^^^^^^^^\n",
      "  File \"c:\\Users\\gunub\\.conda\\envs\\langchain\\Lib\\site-packages\\IPython\\core\\ultratb.py\", line 1088, in format_exception_as_a_whole\n",
      "    frames.append(self.format_record(record))\n",
      "                  ^^^^^^^^^^^^^^^^^^^^^^^^^^\n",
      "  File \"c:\\Users\\gunub\\.conda\\envs\\langchain\\Lib\\site-packages\\IPython\\core\\ultratb.py\", line 970, in format_record\n",
      "    frame_info.lines, Colors, self.has_colors, lvals\n",
      "    ^^^^^^^^^^^^^^^^\n",
      "  File \"c:\\Users\\gunub\\.conda\\envs\\langchain\\Lib\\site-packages\\IPython\\core\\ultratb.py\", line 792, in lines\n",
      "    return self._sd.lines\n",
      "           ^^^^^^^^^^^^^^\n",
      "  File \"c:\\Users\\gunub\\.conda\\envs\\langchain\\Lib\\site-packages\\stack_data\\utils.py\", line 144, in cached_property_wrapper\n",
      "    value = obj.__dict__[self.func.__name__] = self.func(obj)\n",
      "                                               ^^^^^^^^^^^^^^\n",
      "  File \"c:\\Users\\gunub\\.conda\\envs\\langchain\\Lib\\site-packages\\stack_data\\core.py\", line 734, in lines\n",
      "    pieces = self.included_pieces\n",
      "             ^^^^^^^^^^^^^^^^^^^^\n",
      "  File \"c:\\Users\\gunub\\.conda\\envs\\langchain\\Lib\\site-packages\\stack_data\\utils.py\", line 144, in cached_property_wrapper\n",
      "    value = obj.__dict__[self.func.__name__] = self.func(obj)\n",
      "                                               ^^^^^^^^^^^^^^\n",
      "  File \"c:\\Users\\gunub\\.conda\\envs\\langchain\\Lib\\site-packages\\stack_data\\core.py\", line 681, in included_pieces\n",
      "    pos = scope_pieces.index(self.executing_piece)\n",
      "                             ^^^^^^^^^^^^^^^^^^^^\n",
      "  File \"c:\\Users\\gunub\\.conda\\envs\\langchain\\Lib\\site-packages\\stack_data\\utils.py\", line 144, in cached_property_wrapper\n",
      "    value = obj.__dict__[self.func.__name__] = self.func(obj)\n",
      "                                               ^^^^^^^^^^^^^^\n",
      "  File \"c:\\Users\\gunub\\.conda\\envs\\langchain\\Lib\\site-packages\\stack_data\\core.py\", line 660, in executing_piece\n",
      "    return only(\n",
      "           ^^^^^\n",
      "  File \"c:\\Users\\gunub\\.conda\\envs\\langchain\\Lib\\site-packages\\executing\\executing.py\", line 190, in only\n",
      "    raise NotOneValueFound('Expected one value, found 0')\n",
      "executing.executing.NotOneValueFound: Expected one value, found 0\n"
     ]
    }
   ],
   "source": [
    "save_new(event= event[0], collection=collection)"
   ]
  },
  {
   "cell_type": "code",
   "execution_count": 16,
   "metadata": {},
   "outputs": [],
   "source": [
    "from datetime import datetime\n",
    "import pytz"
   ]
  }
 ],
 "metadata": {
  "kernelspec": {
   "display_name": "langchain",
   "language": "python",
   "name": "python3"
  },
  "language_info": {
   "codemirror_mode": {
    "name": "ipython",
    "version": 3
   },
   "file_extension": ".py",
   "mimetype": "text/x-python",
   "name": "python",
   "nbconvert_exporter": "python",
   "pygments_lexer": "ipython3",
   "version": "3.11.5"
  }
 },
 "nbformat": 4,
 "nbformat_minor": 2
}
